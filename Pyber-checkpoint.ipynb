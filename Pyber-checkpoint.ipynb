{
 "cells": [
  {
   "cell_type": "markdown",
   "metadata": {},
   "source": [
    "# Pyber Ride Sharing"
   ]
  },
  {
   "cell_type": "markdown",
   "metadata": {},
   "source": [
    "## Analysis\n",
    "\n",
    "#### 1)\tThe lion’s share of the total rides and total fare comes from the Urban areas. \n",
    "#### 2)\tFrom the pie charts, 78% of the total drivers are in Urban areas whereas the rides there are only 68% of the total. Which means that Urban areas have way more number of drivers than required. This may be a reason why the fares are lower.\n",
    "#### 3)\tIn Suburban areas, the trend is opposite. 26% of the total rides fall under Suburban whereas percentage of the total drivers there is only 19%. The average fares fall above the Urban cluster. Looks like the driver counts need to go up here.\n",
    "#### 4)\tVery less number of people prefer to ride on Pyber in Rural areas and significant low number of drivers. This leads to the fares being higher in these areas.\n"
   ]
  },
  {
   "cell_type": "code",
   "execution_count": 610,
   "metadata": {
    "collapsed": true
   },
   "outputs": [],
   "source": [
    "# Your objective is to build a [Bubble Plot](https://en.wikipedia.org/wiki/Bubble_chart) that showcases the relationship \n",
    "# between four key variables:\n",
    "\n",
    "# Average Fare ($) Per City\n",
    "# Total Number of Rides Per City\n",
    "# Total Number of Drivers Per City\n",
    "# City Type (Urban, Suburban, Rural)\n"
   ]
  },
  {
   "cell_type": "code",
   "execution_count": 611,
   "metadata": {
    "collapsed": true
   },
   "outputs": [],
   "source": [
    "import matplotlib.pyplot as plt\n",
    "import numpy as np\n",
    "import pandas as pd\n"
   ]
  },
  {
   "cell_type": "code",
   "execution_count": 612,
   "metadata": {},
   "outputs": [
    {
     "data": {
      "text/html": [
       "<div>\n",
       "<style>\n",
       "    .dataframe thead tr:only-child th {\n",
       "        text-align: right;\n",
       "    }\n",
       "\n",
       "    .dataframe thead th {\n",
       "        text-align: left;\n",
       "    }\n",
       "\n",
       "    .dataframe tbody tr th {\n",
       "        vertical-align: top;\n",
       "    }\n",
       "</style>\n",
       "<table border=\"1\" class=\"dataframe\">\n",
       "  <thead>\n",
       "    <tr style=\"text-align: right;\">\n",
       "      <th></th>\n",
       "      <th>city</th>\n",
       "      <th>driver_count</th>\n",
       "      <th>type</th>\n",
       "    </tr>\n",
       "  </thead>\n",
       "  <tbody>\n",
       "    <tr>\n",
       "      <th>0</th>\n",
       "      <td>Kelseyland</td>\n",
       "      <td>63</td>\n",
       "      <td>Urban</td>\n",
       "    </tr>\n",
       "    <tr>\n",
       "      <th>1</th>\n",
       "      <td>Nguyenbury</td>\n",
       "      <td>8</td>\n",
       "      <td>Urban</td>\n",
       "    </tr>\n",
       "    <tr>\n",
       "      <th>2</th>\n",
       "      <td>East Douglas</td>\n",
       "      <td>12</td>\n",
       "      <td>Urban</td>\n",
       "    </tr>\n",
       "    <tr>\n",
       "      <th>3</th>\n",
       "      <td>West Dawnfurt</td>\n",
       "      <td>34</td>\n",
       "      <td>Urban</td>\n",
       "    </tr>\n",
       "    <tr>\n",
       "      <th>4</th>\n",
       "      <td>Rodriguezburgh</td>\n",
       "      <td>52</td>\n",
       "      <td>Urban</td>\n",
       "    </tr>\n",
       "  </tbody>\n",
       "</table>\n",
       "</div>"
      ],
      "text/plain": [
       "             city  driver_count   type\n",
       "0      Kelseyland            63  Urban\n",
       "1      Nguyenbury             8  Urban\n",
       "2    East Douglas            12  Urban\n",
       "3   West Dawnfurt            34  Urban\n",
       "4  Rodriguezburgh            52  Urban"
      ]
     },
     "execution_count": 612,
     "metadata": {},
     "output_type": "execute_result"
    }
   ],
   "source": [
    "# city data\n",
    "city_data_df = pd.read_csv('raw_data/city_data.csv')\n",
    "city_data_df.head()"
   ]
  },
  {
   "cell_type": "code",
   "execution_count": 613,
   "metadata": {},
   "outputs": [
    {
     "data": {
      "text/html": [
       "<div>\n",
       "<style>\n",
       "    .dataframe thead tr:only-child th {\n",
       "        text-align: right;\n",
       "    }\n",
       "\n",
       "    .dataframe thead th {\n",
       "        text-align: left;\n",
       "    }\n",
       "\n",
       "    .dataframe tbody tr th {\n",
       "        vertical-align: top;\n",
       "    }\n",
       "</style>\n",
       "<table border=\"1\" class=\"dataframe\">\n",
       "  <thead>\n",
       "    <tr style=\"text-align: right;\">\n",
       "      <th></th>\n",
       "      <th>city</th>\n",
       "      <th>driver_count</th>\n",
       "      <th>type</th>\n",
       "    </tr>\n",
       "  </thead>\n",
       "  <tbody>\n",
       "    <tr>\n",
       "      <th>84</th>\n",
       "      <td>Port James</td>\n",
       "      <td>15</td>\n",
       "      <td>Suburban</td>\n",
       "    </tr>\n",
       "    <tr>\n",
       "      <th>100</th>\n",
       "      <td>Port James</td>\n",
       "      <td>3</td>\n",
       "      <td>Suburban</td>\n",
       "    </tr>\n",
       "  </tbody>\n",
       "</table>\n",
       "</div>"
      ],
      "text/plain": [
       "           city  driver_count      type\n",
       "84   Port James            15  Suburban\n",
       "100  Port James             3  Suburban"
      ]
     },
     "execution_count": 613,
     "metadata": {},
     "output_type": "execute_result"
    }
   ],
   "source": [
    "#locate Port James\n",
    "port_james = city_data_df.loc[city_data_df[\"city\"] == \"Port James\",:]\n",
    "port_james"
   ]
  },
  {
   "cell_type": "code",
   "execution_count": 614,
   "metadata": {},
   "outputs": [
    {
     "data": {
      "text/html": [
       "<div>\n",
       "<style>\n",
       "    .dataframe thead tr:only-child th {\n",
       "        text-align: right;\n",
       "    }\n",
       "\n",
       "    .dataframe thead th {\n",
       "        text-align: left;\n",
       "    }\n",
       "\n",
       "    .dataframe tbody tr th {\n",
       "        vertical-align: top;\n",
       "    }\n",
       "</style>\n",
       "<table border=\"1\" class=\"dataframe\">\n",
       "  <thead>\n",
       "    <tr style=\"text-align: right;\">\n",
       "      <th></th>\n",
       "      <th>city</th>\n",
       "      <th>Total Drivers Per City</th>\n",
       "    </tr>\n",
       "  </thead>\n",
       "  <tbody>\n",
       "    <tr>\n",
       "      <th>0</th>\n",
       "      <td>Alvarezhaven</td>\n",
       "      <td>21</td>\n",
       "    </tr>\n",
       "    <tr>\n",
       "      <th>1</th>\n",
       "      <td>Alyssaberg</td>\n",
       "      <td>67</td>\n",
       "    </tr>\n",
       "    <tr>\n",
       "      <th>2</th>\n",
       "      <td>Anitamouth</td>\n",
       "      <td>16</td>\n",
       "    </tr>\n",
       "    <tr>\n",
       "      <th>3</th>\n",
       "      <td>Antoniomouth</td>\n",
       "      <td>21</td>\n",
       "    </tr>\n",
       "    <tr>\n",
       "      <th>4</th>\n",
       "      <td>Aprilchester</td>\n",
       "      <td>49</td>\n",
       "    </tr>\n",
       "  </tbody>\n",
       "</table>\n",
       "</div>"
      ],
      "text/plain": [
       "           city  Total Drivers Per City\n",
       "0  Alvarezhaven                      21\n",
       "1    Alyssaberg                      67\n",
       "2    Anitamouth                      16\n",
       "3  Antoniomouth                      21\n",
       "4  Aprilchester                      49"
      ]
     },
     "execution_count": 614,
     "metadata": {},
     "output_type": "execute_result"
    }
   ],
   "source": [
    "#Add the driver count of same cites in different rows (126 rows since Port James has a duplicate)\n",
    "drivers_count = city_data_df.groupby(\"city\")[\"driver_count\"].sum()\n",
    "city_data_new_df = pd.DataFrame({\"Total Drivers Per City\":drivers_count})\n",
    "city_data_new_df = city_data_new_df.reset_index()\n",
    "city_data_new_df.head()"
   ]
  },
  {
   "cell_type": "code",
   "execution_count": 615,
   "metadata": {},
   "outputs": [
    {
     "data": {
      "text/html": [
       "<div>\n",
       "<style>\n",
       "    .dataframe thead tr:only-child th {\n",
       "        text-align: right;\n",
       "    }\n",
       "\n",
       "    .dataframe thead th {\n",
       "        text-align: left;\n",
       "    }\n",
       "\n",
       "    .dataframe tbody tr th {\n",
       "        vertical-align: top;\n",
       "    }\n",
       "</style>\n",
       "<table border=\"1\" class=\"dataframe\">\n",
       "  <thead>\n",
       "    <tr style=\"text-align: right;\">\n",
       "      <th></th>\n",
       "      <th>city</th>\n",
       "      <th>Total Drivers Per City</th>\n",
       "    </tr>\n",
       "  </thead>\n",
       "  <tbody>\n",
       "    <tr>\n",
       "      <th>72</th>\n",
       "      <td>Port James</td>\n",
       "      <td>18</td>\n",
       "    </tr>\n",
       "  </tbody>\n",
       "</table>\n",
       "</div>"
      ],
      "text/plain": [
       "          city  Total Drivers Per City\n",
       "72  Port James                      18"
      ]
     },
     "execution_count": 615,
     "metadata": {},
     "output_type": "execute_result"
    }
   ],
   "source": [
    "#locate Port James\n",
    "port_james = city_data_new_df.loc[city_data_new_df[\"city\"] == \"Port James\",:]\n",
    "port_james"
   ]
  },
  {
   "cell_type": "code",
   "execution_count": 616,
   "metadata": {},
   "outputs": [
    {
     "data": {
      "text/html": [
       "<div>\n",
       "<style>\n",
       "    .dataframe thead tr:only-child th {\n",
       "        text-align: right;\n",
       "    }\n",
       "\n",
       "    .dataframe thead th {\n",
       "        text-align: left;\n",
       "    }\n",
       "\n",
       "    .dataframe tbody tr th {\n",
       "        vertical-align: top;\n",
       "    }\n",
       "</style>\n",
       "<table border=\"1\" class=\"dataframe\">\n",
       "  <thead>\n",
       "    <tr style=\"text-align: right;\">\n",
       "      <th></th>\n",
       "      <th>city</th>\n",
       "      <th>driver_count</th>\n",
       "      <th>type</th>\n",
       "    </tr>\n",
       "  </thead>\n",
       "  <tbody>\n",
       "    <tr>\n",
       "      <th>100</th>\n",
       "      <td>Port James</td>\n",
       "      <td>3</td>\n",
       "      <td>Suburban</td>\n",
       "    </tr>\n",
       "  </tbody>\n",
       "</table>\n",
       "</div>"
      ],
      "text/plain": [
       "           city  driver_count      type\n",
       "100  Port James             3  Suburban"
      ]
     },
     "execution_count": 616,
     "metadata": {},
     "output_type": "execute_result"
    }
   ],
   "source": [
    "#delete duplicate row of Port James in original city data\n",
    "city_data_df = city_data_df.drop(city_data_df.index[[84]])\n",
    "port_james = city_data_df.loc[city_data_df[\"city\"] == \"Port James\",:]\n",
    "port_james"
   ]
  },
  {
   "cell_type": "code",
   "execution_count": 617,
   "metadata": {},
   "outputs": [
    {
     "data": {
      "text/html": [
       "<div>\n",
       "<style>\n",
       "    .dataframe thead tr:only-child th {\n",
       "        text-align: right;\n",
       "    }\n",
       "\n",
       "    .dataframe thead th {\n",
       "        text-align: left;\n",
       "    }\n",
       "\n",
       "    .dataframe tbody tr th {\n",
       "        vertical-align: top;\n",
       "    }\n",
       "</style>\n",
       "<table border=\"1\" class=\"dataframe\">\n",
       "  <thead>\n",
       "    <tr style=\"text-align: right;\">\n",
       "      <th></th>\n",
       "      <th>city</th>\n",
       "      <th>Total Drivers Per City</th>\n",
       "      <th>type</th>\n",
       "    </tr>\n",
       "  </thead>\n",
       "  <tbody>\n",
       "    <tr>\n",
       "      <th>0</th>\n",
       "      <td>Alvarezhaven</td>\n",
       "      <td>21</td>\n",
       "      <td>Urban</td>\n",
       "    </tr>\n",
       "    <tr>\n",
       "      <th>1</th>\n",
       "      <td>Alyssaberg</td>\n",
       "      <td>67</td>\n",
       "      <td>Urban</td>\n",
       "    </tr>\n",
       "    <tr>\n",
       "      <th>2</th>\n",
       "      <td>Anitamouth</td>\n",
       "      <td>16</td>\n",
       "      <td>Suburban</td>\n",
       "    </tr>\n",
       "    <tr>\n",
       "      <th>3</th>\n",
       "      <td>Antoniomouth</td>\n",
       "      <td>21</td>\n",
       "      <td>Urban</td>\n",
       "    </tr>\n",
       "    <tr>\n",
       "      <th>4</th>\n",
       "      <td>Aprilchester</td>\n",
       "      <td>49</td>\n",
       "      <td>Urban</td>\n",
       "    </tr>\n",
       "  </tbody>\n",
       "</table>\n",
       "</div>"
      ],
      "text/plain": [
       "           city  Total Drivers Per City      type\n",
       "0  Alvarezhaven                      21     Urban\n",
       "1    Alyssaberg                      67     Urban\n",
       "2    Anitamouth                      16  Suburban\n",
       "3  Antoniomouth                      21     Urban\n",
       "4  Aprilchester                      49     Urban"
      ]
     },
     "execution_count": 617,
     "metadata": {},
     "output_type": "execute_result"
    }
   ],
   "source": [
    "# merge driver count and city type (125 rows now)\n",
    "#delete duplicate driver_count column\n",
    "city_data_new_df = pd.merge(city_data_new_df, city_data_df, on='city', how='left')\n",
    "city_data_new_df.drop('driver_count', axis=1, inplace=True)\n",
    "\n",
    "city_data_new_df.head()"
   ]
  },
  {
   "cell_type": "code",
   "execution_count": 618,
   "metadata": {},
   "outputs": [
    {
     "data": {
      "text/html": [
       "<div>\n",
       "<style>\n",
       "    .dataframe thead tr:only-child th {\n",
       "        text-align: right;\n",
       "    }\n",
       "\n",
       "    .dataframe thead th {\n",
       "        text-align: left;\n",
       "    }\n",
       "\n",
       "    .dataframe tbody tr th {\n",
       "        vertical-align: top;\n",
       "    }\n",
       "</style>\n",
       "<table border=\"1\" class=\"dataframe\">\n",
       "  <thead>\n",
       "    <tr style=\"text-align: right;\">\n",
       "      <th></th>\n",
       "      <th>city</th>\n",
       "      <th>date</th>\n",
       "      <th>fare</th>\n",
       "      <th>ride_id</th>\n",
       "    </tr>\n",
       "  </thead>\n",
       "  <tbody>\n",
       "    <tr>\n",
       "      <th>0</th>\n",
       "      <td>Sarabury</td>\n",
       "      <td>2016-01-16 13:49:27</td>\n",
       "      <td>38.35</td>\n",
       "      <td>5403689035038</td>\n",
       "    </tr>\n",
       "    <tr>\n",
       "      <th>1</th>\n",
       "      <td>South Roy</td>\n",
       "      <td>2016-01-02 18:42:34</td>\n",
       "      <td>17.49</td>\n",
       "      <td>4036272335942</td>\n",
       "    </tr>\n",
       "    <tr>\n",
       "      <th>2</th>\n",
       "      <td>Wiseborough</td>\n",
       "      <td>2016-01-21 17:35:29</td>\n",
       "      <td>44.18</td>\n",
       "      <td>3645042422587</td>\n",
       "    </tr>\n",
       "    <tr>\n",
       "      <th>3</th>\n",
       "      <td>Spencertown</td>\n",
       "      <td>2016-07-31 14:53:22</td>\n",
       "      <td>6.87</td>\n",
       "      <td>2242596575892</td>\n",
       "    </tr>\n",
       "    <tr>\n",
       "      <th>4</th>\n",
       "      <td>Nguyenbury</td>\n",
       "      <td>2016-07-09 04:42:44</td>\n",
       "      <td>6.28</td>\n",
       "      <td>1543057793673</td>\n",
       "    </tr>\n",
       "  </tbody>\n",
       "</table>\n",
       "</div>"
      ],
      "text/plain": [
       "          city                 date   fare        ride_id\n",
       "0     Sarabury  2016-01-16 13:49:27  38.35  5403689035038\n",
       "1    South Roy  2016-01-02 18:42:34  17.49  4036272335942\n",
       "2  Wiseborough  2016-01-21 17:35:29  44.18  3645042422587\n",
       "3  Spencertown  2016-07-31 14:53:22   6.87  2242596575892\n",
       "4   Nguyenbury  2016-07-09 04:42:44   6.28  1543057793673"
      ]
     },
     "execution_count": 618,
     "metadata": {},
     "output_type": "execute_result"
    }
   ],
   "source": [
    "# ride data\n",
    "ride_data_df = pd.read_csv('raw_data/ride_data.csv')\n",
    "ride_data_df.head()\n",
    "#ride_data_df.dtypes"
   ]
  },
  {
   "cell_type": "code",
   "execution_count": 619,
   "metadata": {},
   "outputs": [
    {
     "data": {
      "text/html": [
       "<div>\n",
       "<style>\n",
       "    .dataframe thead tr:only-child th {\n",
       "        text-align: right;\n",
       "    }\n",
       "\n",
       "    .dataframe thead th {\n",
       "        text-align: left;\n",
       "    }\n",
       "\n",
       "    .dataframe tbody tr th {\n",
       "        vertical-align: top;\n",
       "    }\n",
       "</style>\n",
       "<table border=\"1\" class=\"dataframe\">\n",
       "  <thead>\n",
       "    <tr style=\"text-align: right;\">\n",
       "      <th></th>\n",
       "      <th>city</th>\n",
       "      <th>Average Fare Per City</th>\n",
       "      <th>Total Rides Per City</th>\n",
       "    </tr>\n",
       "  </thead>\n",
       "  <tbody>\n",
       "    <tr>\n",
       "      <th>0</th>\n",
       "      <td>Alvarezhaven</td>\n",
       "      <td>23.928710</td>\n",
       "      <td>31</td>\n",
       "    </tr>\n",
       "    <tr>\n",
       "      <th>1</th>\n",
       "      <td>Alyssaberg</td>\n",
       "      <td>20.609615</td>\n",
       "      <td>26</td>\n",
       "    </tr>\n",
       "    <tr>\n",
       "      <th>2</th>\n",
       "      <td>Anitamouth</td>\n",
       "      <td>37.315556</td>\n",
       "      <td>9</td>\n",
       "    </tr>\n",
       "    <tr>\n",
       "      <th>3</th>\n",
       "      <td>Antoniomouth</td>\n",
       "      <td>23.625000</td>\n",
       "      <td>22</td>\n",
       "    </tr>\n",
       "    <tr>\n",
       "      <th>4</th>\n",
       "      <td>Aprilchester</td>\n",
       "      <td>21.981579</td>\n",
       "      <td>19</td>\n",
       "    </tr>\n",
       "  </tbody>\n",
       "</table>\n",
       "</div>"
      ],
      "text/plain": [
       "           city  Average Fare Per City  Total Rides Per City\n",
       "0  Alvarezhaven              23.928710                    31\n",
       "1    Alyssaberg              20.609615                    26\n",
       "2    Anitamouth              37.315556                     9\n",
       "3  Antoniomouth              23.625000                    22\n",
       "4  Aprilchester              21.981579                    19"
      ]
     },
     "execution_count": 619,
     "metadata": {},
     "output_type": "execute_result"
    }
   ],
   "source": [
    "# Average Fare ($) Per City\n",
    "city_avg_fare = ride_data_df.groupby(\"city\")[\"fare\"].mean()\n",
    "#print(city_avg_fare)\n",
    "\n",
    "# Total Number of Rides Per City\n",
    "city_total_rides = ride_data_df.groupby(\"city\")[\"fare\"].count()\n",
    "#print(city_total_rides)\n",
    "\n",
    "#Create a data frame of thes 2 lists\n",
    "new_data_df = pd.DataFrame({\"Average Fare Per City\":city_avg_fare, \"Total Rides Per City\": city_total_rides})\n",
    "\n",
    "new_data_df = new_data_df.reset_index()\n",
    "new_data_df.head()\n"
   ]
  },
  {
   "cell_type": "code",
   "execution_count": 620,
   "metadata": {},
   "outputs": [
    {
     "data": {
      "text/html": [
       "<div>\n",
       "<style>\n",
       "    .dataframe thead tr:only-child th {\n",
       "        text-align: right;\n",
       "    }\n",
       "\n",
       "    .dataframe thead th {\n",
       "        text-align: left;\n",
       "    }\n",
       "\n",
       "    .dataframe tbody tr th {\n",
       "        vertical-align: top;\n",
       "    }\n",
       "</style>\n",
       "<table border=\"1\" class=\"dataframe\">\n",
       "  <thead>\n",
       "    <tr style=\"text-align: right;\">\n",
       "      <th></th>\n",
       "      <th>city</th>\n",
       "      <th>Average Fare Per City</th>\n",
       "      <th>Total Rides Per City</th>\n",
       "      <th>Total Drivers Per City</th>\n",
       "      <th>type</th>\n",
       "    </tr>\n",
       "  </thead>\n",
       "  <tbody>\n",
       "    <tr>\n",
       "      <th>0</th>\n",
       "      <td>Alvarezhaven</td>\n",
       "      <td>23.93</td>\n",
       "      <td>31</td>\n",
       "      <td>21</td>\n",
       "      <td>Urban</td>\n",
       "    </tr>\n",
       "    <tr>\n",
       "      <th>1</th>\n",
       "      <td>Alyssaberg</td>\n",
       "      <td>20.61</td>\n",
       "      <td>26</td>\n",
       "      <td>67</td>\n",
       "      <td>Urban</td>\n",
       "    </tr>\n",
       "    <tr>\n",
       "      <th>2</th>\n",
       "      <td>Anitamouth</td>\n",
       "      <td>37.32</td>\n",
       "      <td>9</td>\n",
       "      <td>16</td>\n",
       "      <td>Suburban</td>\n",
       "    </tr>\n",
       "    <tr>\n",
       "      <th>3</th>\n",
       "      <td>Antoniomouth</td>\n",
       "      <td>23.62</td>\n",
       "      <td>22</td>\n",
       "      <td>21</td>\n",
       "      <td>Urban</td>\n",
       "    </tr>\n",
       "    <tr>\n",
       "      <th>4</th>\n",
       "      <td>Aprilchester</td>\n",
       "      <td>21.98</td>\n",
       "      <td>19</td>\n",
       "      <td>49</td>\n",
       "      <td>Urban</td>\n",
       "    </tr>\n",
       "  </tbody>\n",
       "</table>\n",
       "</div>"
      ],
      "text/plain": [
       "           city Average Fare Per City  Total Rides Per City  \\\n",
       "0  Alvarezhaven                 23.93                    31   \n",
       "1    Alyssaberg                 20.61                    26   \n",
       "2    Anitamouth                 37.32                     9   \n",
       "3  Antoniomouth                 23.62                    22   \n",
       "4  Aprilchester                 21.98                    19   \n",
       "\n",
       "   Total Drivers Per City      type  \n",
       "0                      21     Urban  \n",
       "1                      67     Urban  \n",
       "2                      16  Suburban  \n",
       "3                      21     Urban  \n",
       "4                      49     Urban  "
      ]
     },
     "execution_count": 620,
     "metadata": {},
     "output_type": "execute_result"
    }
   ],
   "source": [
    "# City Type (Urban, Suburban, Rural)\n",
    "all_data_df = pd.merge(new_data_df, city_data_new_df, how='left')\n",
    "\n",
    "all_data_df[\"Average Fare Per City\"] = all_data_df[\"Average Fare Per City\"].map(\"{:,.2f}\".format)\n",
    "\n",
    "all_data_df.head()\n"
   ]
  },
  {
   "cell_type": "code",
   "execution_count": 621,
   "metadata": {},
   "outputs": [],
   "source": [
    "# Convert Average fare Per City column to numberic\n",
    "all_data_df[\"Average Fare Per City\"] = pd.to_numeric(all_data_df[\"Average Fare Per City\"], errors='ignore')\n",
    "#all_data_df.dtypes"
   ]
  },
  {
   "cell_type": "code",
   "execution_count": 622,
   "metadata": {},
   "outputs": [
    {
     "data": {
      "image/png": "[encoded data removed]",
      "text/plain": [
       "<matplotlib.figure.Figure at 0x2724ddcacc0>"
      ]
     },
     "metadata": {},
     "output_type": "display_data"
    }
   ],
   "source": [
    "# Create Scatterplots\n",
    "\n",
    "# Urban data\n",
    "urban_type_df = all_data_df.loc[all_data_df[\"type\"] == \"Urban\",:]\n",
    "urban_x_axis = urban_type_df[\"Total Rides Per City\"]\n",
    "urban_y_axis = urban_type_df[\"Average Fare Per City\"]\n",
    "urban_s = urban_type_df[\"Total Drivers Per City\"]\n",
    "urban = plt.scatter(urban_x_axis, urban_y_axis, marker=\"o\", facecolors=\"lightcoral\", edgecolors=\"black\", s=(urban_s*5),\\\n",
    "                    alpha=0.8, label=\"Urban\")\n",
    "\n",
    "# Suburban data\n",
    "suburban_type_df = all_data_df.loc[all_data_df[\"type\"] == \"Suburban\",:]\n",
    "suburban_x_axis = suburban_type_df[\"Total Rides Per City\"]\n",
    "suburban_y_axis = suburban_type_df[\"Average Fare Per City\"]\n",
    "suburban_s = suburban_type_df[\"Total Drivers Per City\"]\n",
    "suburban = plt.scatter(suburban_x_axis, suburban_y_axis, marker=\"o\", facecolors=\"lightskyblue\", edgecolors=\"black\", \\\n",
    "                       s=(suburban_s*5), alpha=0.8, label=\"Suburban\")\n",
    "\n",
    "# Rural data\n",
    "rural_type_df = all_data_df.loc[all_data_df[\"type\"] == \"Rural\",:]\n",
    "rural_x_axis = rural_type_df[\"Total Rides Per City\"]\n",
    "rural_y_axis = rural_type_df[\"Average Fare Per City\"]\n",
    "rural_s = rural_type_df[\"Total Drivers Per City\"]\n",
    "rural = plt.scatter(rural_x_axis, rural_y_axis, marker=\"o\", facecolors=\"gold\", edgecolors=\"black\", s=(rural_s*5),\\\n",
    "                    alpha=0.8, label=\"Rural\")\n",
    "\n",
    "# Labels\n",
    "plt.xlabel('Total Number of Rides (Per City)')\n",
    "plt.ylabel('Average Fares ($)')\n",
    "plt.title('Pyber Ride Sharing data')\n",
    "plt.grid(color=\"white\")\n",
    "\n",
    "\n",
    "plt.xlim(0, 40)\n",
    "plt.ylim(16, 45)\n",
    "plt.legend()\n",
    "plt.rcParams['axes.facecolor'] = 'lightgray'\n",
    "plt.show()"
   ]
  },
  {
   "cell_type": "code",
   "execution_count": 623,
   "metadata": {},
   "outputs": [],
   "source": [
    "#ride_data_df.head()"
   ]
  },
  {
   "cell_type": "code",
   "execution_count": 624,
   "metadata": {},
   "outputs": [
    {
     "data": {
      "text/html": [
       "<div>\n",
       "<style>\n",
       "    .dataframe thead tr:only-child th {\n",
       "        text-align: right;\n",
       "    }\n",
       "\n",
       "    .dataframe thead th {\n",
       "        text-align: left;\n",
       "    }\n",
       "\n",
       "    .dataframe tbody tr th {\n",
       "        vertical-align: top;\n",
       "    }\n",
       "</style>\n",
       "<table border=\"1\" class=\"dataframe\">\n",
       "  <thead>\n",
       "    <tr style=\"text-align: right;\">\n",
       "      <th></th>\n",
       "      <th>city</th>\n",
       "      <th>date</th>\n",
       "      <th>fare</th>\n",
       "      <th>ride_id</th>\n",
       "      <th>Total Drivers Per City</th>\n",
       "      <th>type</th>\n",
       "    </tr>\n",
       "  </thead>\n",
       "  <tbody>\n",
       "    <tr>\n",
       "      <th>0</th>\n",
       "      <td>Sarabury</td>\n",
       "      <td>2016-01-16 13:49:27</td>\n",
       "      <td>38.35</td>\n",
       "      <td>5403689035038</td>\n",
       "      <td>46</td>\n",
       "      <td>Urban</td>\n",
       "    </tr>\n",
       "    <tr>\n",
       "      <th>1</th>\n",
       "      <td>South Roy</td>\n",
       "      <td>2016-01-02 18:42:34</td>\n",
       "      <td>17.49</td>\n",
       "      <td>4036272335942</td>\n",
       "      <td>35</td>\n",
       "      <td>Urban</td>\n",
       "    </tr>\n",
       "    <tr>\n",
       "      <th>2</th>\n",
       "      <td>Wiseborough</td>\n",
       "      <td>2016-01-21 17:35:29</td>\n",
       "      <td>44.18</td>\n",
       "      <td>3645042422587</td>\n",
       "      <td>55</td>\n",
       "      <td>Urban</td>\n",
       "    </tr>\n",
       "    <tr>\n",
       "      <th>3</th>\n",
       "      <td>Spencertown</td>\n",
       "      <td>2016-07-31 14:53:22</td>\n",
       "      <td>6.87</td>\n",
       "      <td>2242596575892</td>\n",
       "      <td>68</td>\n",
       "      <td>Urban</td>\n",
       "    </tr>\n",
       "    <tr>\n",
       "      <th>4</th>\n",
       "      <td>Nguyenbury</td>\n",
       "      <td>2016-07-09 04:42:44</td>\n",
       "      <td>6.28</td>\n",
       "      <td>1543057793673</td>\n",
       "      <td>8</td>\n",
       "      <td>Urban</td>\n",
       "    </tr>\n",
       "  </tbody>\n",
       "</table>\n",
       "</div>"
      ],
      "text/plain": [
       "          city                 date   fare        ride_id  \\\n",
       "0     Sarabury  2016-01-16 13:49:27  38.35  5403689035038   \n",
       "1    South Roy  2016-01-02 18:42:34  17.49  4036272335942   \n",
       "2  Wiseborough  2016-01-21 17:35:29  44.18  3645042422587   \n",
       "3  Spencertown  2016-07-31 14:53:22   6.87  2242596575892   \n",
       "4   Nguyenbury  2016-07-09 04:42:44   6.28  1543057793673   \n",
       "\n",
       "   Total Drivers Per City   type  \n",
       "0                      46  Urban  \n",
       "1                      35  Urban  \n",
       "2                      55  Urban  \n",
       "3                      68  Urban  \n",
       "4                       8  Urban  "
      ]
     },
     "execution_count": 624,
     "metadata": {},
     "output_type": "execute_result"
    }
   ],
   "source": [
    "# Merge ride data with city data\n",
    "all_data2_df = pd.merge(ride_data_df, city_data_new_df, on='city', how='left')\n",
    "all_data2_df.head()"
   ]
  },
  {
   "cell_type": "code",
   "execution_count": 625,
   "metadata": {},
   "outputs": [
    {
     "data": {
      "text/html": [
       "<div>\n",
       "<style>\n",
       "    .dataframe thead tr:only-child th {\n",
       "        text-align: right;\n",
       "    }\n",
       "\n",
       "    .dataframe thead th {\n",
       "        text-align: left;\n",
       "    }\n",
       "\n",
       "    .dataframe tbody tr th {\n",
       "        vertical-align: top;\n",
       "    }\n",
       "</style>\n",
       "<table border=\"1\" class=\"dataframe\">\n",
       "  <thead>\n",
       "    <tr style=\"text-align: right;\">\n",
       "      <th></th>\n",
       "      <th>type</th>\n",
       "      <th>Fares by Type</th>\n",
       "      <th>Percent Fare by Type (%)</th>\n",
       "    </tr>\n",
       "  </thead>\n",
       "  <tbody>\n",
       "    <tr>\n",
       "      <th>0</th>\n",
       "      <td>Rural</td>\n",
       "      <td>4255.09</td>\n",
       "      <td>6.68</td>\n",
       "    </tr>\n",
       "    <tr>\n",
       "      <th>1</th>\n",
       "      <td>Suburban</td>\n",
       "      <td>19317.88</td>\n",
       "      <td>30.35</td>\n",
       "    </tr>\n",
       "    <tr>\n",
       "      <th>2</th>\n",
       "      <td>Urban</td>\n",
       "      <td>40078.34</td>\n",
       "      <td>62.97</td>\n",
       "    </tr>\n",
       "  </tbody>\n",
       "</table>\n",
       "</div>"
      ],
      "text/plain": [
       "       type  Fares by Type  Percent Fare by Type (%)\n",
       "0     Rural        4255.09                      6.68\n",
       "1  Suburban       19317.88                     30.35\n",
       "2     Urban       40078.34                     62.97"
      ]
     },
     "execution_count": 625,
     "metadata": {},
     "output_type": "execute_result"
    }
   ],
   "source": [
    "# In addition, you will be expected to produce the following three pie charts:\n",
    "\n",
    "## % of Total Fares by City Type\n",
    "\n",
    "# sum of fares by city type and total fare\n",
    "sum_fare_type = all_data2_df.groupby('type')[\"fare\"].sum()\n",
    "total_fare = all_data2_df[\"fare\"].sum()\n",
    "#print(sum_fare_type)\n",
    "#print(total_fare)\n",
    "\n",
    "# % of Total Fares by City Type\n",
    "percent_fares = sum_fare_type / total_fare * 100\n",
    "#print(percent_fares)\n",
    "\n",
    "fares_citytype_df = pd.DataFrame({\"Fares by Type\": sum_fare_type, \"Percent Fare by Type (%)\": percent_fares})\n",
    "fares_citytype_df[\"Percent Fare by Type (%)\"] = fares_citytype_df[\"Percent Fare by Type (%)\"].map('{:.2f}'.format)\n",
    "\n",
    "# converting the % fare to float\n",
    "fares_citytype_df[\"Percent Fare by Type (%)\"] = pd.to_numeric(fares_citytype_df[\"Percent Fare by Type (%)\"], errors='ignore')\n",
    "\n",
    "fares_citytype_df = fares_citytype_df.reset_index()\n",
    "fares_citytype_df"
   ]
  },
  {
   "cell_type": "code",
   "execution_count": 626,
   "metadata": {},
   "outputs": [
    {
     "data": {
      "image/png": "[encoded data removed]",
      "text/plain": [
       "<matplotlib.figure.Figure at 0x2724d769048>"
      ]
     },
     "metadata": {},
     "output_type": "display_data"
    }
   ],
   "source": [
    "# Create PieChart for % of Total Fares by City Type\n",
    "explode=[0, 0, 0.1]\n",
    "ax = fares_citytype_df.plot(kind='pie', y = 'Percent Fare by Type (%)', autopct='%1.2f%%', startangle=165, shadow=True,\\\n",
    "                       labels=fares_citytype_df['type'], colors=[\"gold\", \"lightskyblue\", 'lightcoral'],\\\n",
    "                       legend = False, fontsize=14, explode=explode)\n",
    "#remove the yaxis label\n",
    "ax.set_ylabel('')\n",
    "plt.title(\"Percent Fares by City Type (%)\")\n",
    "plt.show()"
   ]
  },
  {
   "cell_type": "code",
   "execution_count": 627,
   "metadata": {},
   "outputs": [
    {
     "data": {
      "text/html": [
       "<div>\n",
       "<style>\n",
       "    .dataframe thead tr:only-child th {\n",
       "        text-align: right;\n",
       "    }\n",
       "\n",
       "    .dataframe thead th {\n",
       "        text-align: left;\n",
       "    }\n",
       "\n",
       "    .dataframe tbody tr th {\n",
       "        vertical-align: top;\n",
       "    }\n",
       "</style>\n",
       "<table border=\"1\" class=\"dataframe\">\n",
       "  <thead>\n",
       "    <tr style=\"text-align: right;\">\n",
       "      <th></th>\n",
       "      <th>type</th>\n",
       "      <th>Rides by Type</th>\n",
       "      <th>Percent Rides by Type (%)</th>\n",
       "    </tr>\n",
       "  </thead>\n",
       "  <tbody>\n",
       "    <tr>\n",
       "      <th>0</th>\n",
       "      <td>Rural</td>\n",
       "      <td>125</td>\n",
       "      <td>5.26</td>\n",
       "    </tr>\n",
       "    <tr>\n",
       "      <th>1</th>\n",
       "      <td>Suburban</td>\n",
       "      <td>625</td>\n",
       "      <td>26.32</td>\n",
       "    </tr>\n",
       "    <tr>\n",
       "      <th>2</th>\n",
       "      <td>Urban</td>\n",
       "      <td>1625</td>\n",
       "      <td>68.42</td>\n",
       "    </tr>\n",
       "  </tbody>\n",
       "</table>\n",
       "</div>"
      ],
      "text/plain": [
       "       type  Rides by Type  Percent Rides by Type (%)\n",
       "0     Rural            125                       5.26\n",
       "1  Suburban            625                      26.32\n",
       "2     Urban           1625                      68.42"
      ]
     },
     "execution_count": 627,
     "metadata": {},
     "output_type": "execute_result"
    }
   ],
   "source": [
    "## % of Total Rides by City Type\n",
    "\n",
    "# count of rides by city type and total rides\n",
    "count_rides_type = all_data2_df.groupby('type')[\"ride_id\"].count()\n",
    "total_rides = len(all_data2_df[\"ride_id\"])\n",
    "#print(count_rides_type)\n",
    "#print(total_rides)\n",
    "\n",
    "# % of Total Rides by City Type\n",
    "percent_rides = count_rides_type / total_rides * 100\n",
    "#print(percent_rides)\n",
    "\n",
    "rides_citytype_df = pd.DataFrame({\"Rides by Type\": count_rides_type, \"Percent Rides by Type (%)\": percent_rides}, \\\n",
    "                                columns = [\"Rides by Type\", \"Percent Rides by Type (%)\"])\n",
    "rides_citytype_df[\"Percent Rides by Type (%)\"] = rides_citytype_df[\"Percent Rides by Type (%)\"].map('{:.2f}'.format)\n",
    "\n",
    "# converting the % ride to float\n",
    "rides_citytype_df[\"Percent Rides by Type (%)\"] = pd.to_numeric(rides_citytype_df[\"Percent Rides by Type (%)\"], errors='ignore')\n",
    "\n",
    "rides_citytype_df = rides_citytype_df.reset_index()\n",
    "rides_citytype_df\n",
    "\n"
   ]
  },
  {
   "cell_type": "code",
   "execution_count": 628,
   "metadata": {},
   "outputs": [
    {
     "data": {
      "image/png": "[encoded data removed]",
      "text/plain": [
       "<matplotlib.figure.Figure at 0x2724e1b99b0>"
      ]
     },
     "metadata": {},
     "output_type": "display_data"
    }
   ],
   "source": [
    "# Create PieChart for % of Total Rides by City Type\n",
    "explode=[0, 0, 0.1]\n",
    "ax = rides_citytype_df.plot(kind='pie', y = 'Percent Rides by Type (%)', autopct='%1.2f%%', startangle=165, shadow=True,\\\n",
    "                       labels=rides_citytype_df['type'], colors=[\"gold\", \"lightskyblue\", 'lightcoral'], legend = False,\\\n",
    "                       fontsize=14, explode=explode)\n",
    "ax.set_ylabel('')\n",
    "plt.title(\"Percent Rides by City Type (%)\")\n",
    "plt.show()"
   ]
  },
  {
   "cell_type": "code",
   "execution_count": 629,
   "metadata": {},
   "outputs": [],
   "source": [
    "#city_data_new_df.head()"
   ]
  },
  {
   "cell_type": "code",
   "execution_count": 630,
   "metadata": {},
   "outputs": [
    {
     "name": "stdout",
     "output_type": "stream",
     "text": [
      "3349\n"
     ]
    },
    {
     "data": {
      "text/html": [
       "<div>\n",
       "<style>\n",
       "    .dataframe thead tr:only-child th {\n",
       "        text-align: right;\n",
       "    }\n",
       "\n",
       "    .dataframe thead th {\n",
       "        text-align: left;\n",
       "    }\n",
       "\n",
       "    .dataframe tbody tr th {\n",
       "        vertical-align: top;\n",
       "    }\n",
       "</style>\n",
       "<table border=\"1\" class=\"dataframe\">\n",
       "  <thead>\n",
       "    <tr style=\"text-align: right;\">\n",
       "      <th></th>\n",
       "      <th>type</th>\n",
       "      <th>Drivers by Type</th>\n",
       "      <th>Percent Drivers by Type (%)</th>\n",
       "    </tr>\n",
       "  </thead>\n",
       "  <tbody>\n",
       "    <tr>\n",
       "      <th>0</th>\n",
       "      <td>Rural</td>\n",
       "      <td>104</td>\n",
       "      <td>3.11</td>\n",
       "    </tr>\n",
       "    <tr>\n",
       "      <th>1</th>\n",
       "      <td>Suburban</td>\n",
       "      <td>638</td>\n",
       "      <td>19.05</td>\n",
       "    </tr>\n",
       "    <tr>\n",
       "      <th>2</th>\n",
       "      <td>Urban</td>\n",
       "      <td>2607</td>\n",
       "      <td>77.84</td>\n",
       "    </tr>\n",
       "  </tbody>\n",
       "</table>\n",
       "</div>"
      ],
      "text/plain": [
       "       type  Drivers by Type  Percent Drivers by Type (%)\n",
       "0     Rural              104                         3.11\n",
       "1  Suburban              638                        19.05\n",
       "2     Urban             2607                        77.84"
      ]
     },
     "execution_count": 630,
     "metadata": {},
     "output_type": "execute_result"
    }
   ],
   "source": [
    "## % of Total Drivers by City Type\n",
    "\n",
    "# sum of drivers by city type and total drivers\n",
    "sum_drivers_type = city_data_new_df.groupby('type')[\"Total Drivers Per City\"].sum()\n",
    "total_drivers = city_data_new_df[\"Total Drivers Per City\"].sum()\n",
    "#print(sum_drivers_type)\n",
    "print(total_drivers)\n",
    "\n",
    "# % of Total Drivers by City Type\n",
    "percent_drivers = sum_drivers_type / total_drivers * 100\n",
    "#print(percent_drivers)\n",
    "\n",
    "drivers_citytype_df = pd.DataFrame({\"Drivers by Type\": sum_drivers_type, \"Percent Drivers by Type (%)\": percent_drivers}, \\\n",
    "                                columns = [\"Drivers by Type\", \"Percent Drivers by Type (%)\"])\n",
    "drivers_citytype_df[\"Percent Drivers by Type (%)\"] = drivers_citytype_df[\"Percent Drivers by Type (%)\"].map('{:.2f}'.format)\n",
    "\n",
    "# converting the % ride to float\n",
    "drivers_citytype_df[\"Percent Drivers by Type (%)\"] = pd.to_numeric(drivers_citytype_df[\"Percent Drivers by Type (%)\"], \\\n",
    "                                                                   errors='ignore')\n",
    "\n",
    "drivers_citytype_df = drivers_citytype_df.reset_index()\n",
    "drivers_citytype_df"
   ]
  },
  {
   "cell_type": "code",
   "execution_count": 631,
   "metadata": {},
   "outputs": [
    {
     "data": {
      "image/png": "[encoded data removed]",
      "text/plain": [
       "<matplotlib.figure.Figure at 0x2724d8179e8>"
      ]
     },
     "metadata": {},
     "output_type": "display_data"
    }
   ],
   "source": [
    "# Create PieChart for % of Total Drivers by City Type\n",
    "\n",
    "explode=[0, 0, 0.1]\n",
    "ax = drivers_citytype_df.plot(kind='pie', y = 'Percent Drivers by Type (%)', autopct='%1.2f%%', startangle=165, shadow=True,\\\n",
    "                       labels=drivers_citytype_df['type'], colors=[\"gold\", \"lightskyblue\", 'lightcoral'], \\\n",
    "                         legend = False, fontsize=14, explode=explode)\n",
    "\n",
    "ax.set_ylabel('')\n",
    "plt.title(\"Percent Drivers by City Type (%)\")\n",
    "plt.show()"
   ]
  },
  {
   "cell_type": "code",
   "execution_count": null,
   "metadata": {
    "collapsed": true
   },
   "outputs": [],
   "source": []
  }
 ],
 "metadata": {
  "kernelspec": {
   "display_name": "Python [default]",
   "language": "python",
   "name": "python3"
  },
  "language_info": {
   "codemirror_mode": {
    "name": "ipython",
    "version": 3
   },
   "file_extension": ".py",
   "mimetype": "text/x-python",
   "name": "python",
   "nbconvert_exporter": "python",
   "pygments_lexer": "ipython3",
   "version": "3.6.4"
  }
 },
 "nbformat": 4,
 "nbformat_minor": 2
}
